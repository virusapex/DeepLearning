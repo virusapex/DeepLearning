{
  "nbformat": 4,
  "nbformat_minor": 0,
  "metadata": {
    "colab": {
      "name": "YOLO (1 занятие).ipynb",
      "provenance": [],
      "collapsed_sections": []
    },
    "kernelspec": {
      "display_name": "Python 3",
      "language": "python",
      "name": "python3"
    },
    "language_info": {
      "codemirror_mode": {
        "name": "ipython",
        "version": 3
      },
      "file_extension": ".py",
      "mimetype": "text/x-python",
      "name": "python",
      "nbconvert_exporter": "python",
      "pygments_lexer": "ipython3",
      "version": "3.6.9"
    },
    "accelerator": "GPU"
  },
  "cells": [
    {
      "cell_type": "markdown",
      "metadata": {
        "id": "8rjJ8PjXIAGh"
      },
      "source": [
        "# YOLO (You Only Look Once): экстремально быстрая сеть для распознавания объектов в режиме реального времени"
      ]
    },
    {
      "cell_type": "markdown",
      "metadata": {
        "id": "95Uzbv7XIAGl"
      },
      "source": [
        "## Установка и подготовка дистрибутива"
      ]
    },
    {
      "cell_type": "code",
      "metadata": {
        "id": "ItWFAIK6IAGo"
      },
      "source": [
        "!git clone https://github.com/AlexeyAB/darknet"
      ],
      "execution_count": null,
      "outputs": []
    },
    {
      "cell_type": "code",
      "metadata": {
        "id": "LoIA1wPwIAGx"
      },
      "source": [
        "%ls"
      ],
      "execution_count": null,
      "outputs": []
    },
    {
      "cell_type": "code",
      "metadata": {
        "id": "j7irsmdpIAG3"
      },
      "source": [
        "%cd darknet\n",
        "%ls\n",
        "#Активируем участие GPU в процессе распознавания\n",
        "!sed -i 's/GPU=0/GPU=1/g; s/CUDNN=0/CUDNN=1/g' Makefile\n",
        "#Компилируем проект\n",
        "!make\n",
        "#Скачиваем веса\n",
        "!wget https://github.com/AlexeyAB/darknet/releases/download/darknet_yolo_v3_optimal/yolov4.weights"
      ],
      "execution_count": null,
      "outputs": []
    },
    {
      "cell_type": "markdown",
      "metadata": {
        "id": "_4bHLBNcIAHC"
      },
      "source": [
        "## Подбор изображения"
      ]
    },
    {
      "cell_type": "code",
      "metadata": {
        "id": "hpGummS1IAHD"
      },
      "source": [
        "!wget -O cars.jpg https://wallup.net/wp-content/uploads/2016/05/02/348637-Toyota_Prius-car-vehicle-electric_car-dual_monitors-multiple_display-simple_background.jpg"
      ],
      "execution_count": null,
      "outputs": []
    },
    {
      "cell_type": "markdown",
      "metadata": {
        "id": "CqsIptMKIAHI"
      },
      "source": [
        "## Запуск детектора объектов"
      ]
    },
    {
      "cell_type": "code",
      "metadata": {
        "id": "N6todqqJIAHJ"
      },
      "source": [
        "!./darknet detector test cfg/coco.data cfg/yolov4.cfg yolov4.weights cars.jpg -dont_show"
      ],
      "execution_count": null,
      "outputs": []
    },
    {
      "cell_type": "code",
      "metadata": {
        "id": "zyfsFdU-IAHO"
      },
      "source": [
        "from IPython.display import Image\n",
        "Image(filename='predictions.jpg')"
      ],
      "execution_count": null,
      "outputs": []
    },
    {
      "cell_type": "markdown",
      "metadata": {
        "id": "TFgtcwvtIAHT"
      },
      "source": [
        "## Использование других параметров"
      ]
    },
    {
      "cell_type": "code",
      "metadata": {
        "id": "YNbn0jFLIAHU"
      },
      "source": [
        "!wget https://pjreddie.com/media/files/yolov3.weights"
      ],
      "execution_count": null,
      "outputs": []
    },
    {
      "cell_type": "code",
      "metadata": {
        "id": "XKaRLkxyIAHY"
      },
      "source": [
        "!./darknet detector test cfg/coco.data cfg/yolov3.cfg yolov3.weights cars.jpg -dont_show"
      ],
      "execution_count": null,
      "outputs": []
    },
    {
      "cell_type": "code",
      "metadata": {
        "id": "0UNCoRmFIAHd"
      },
      "source": [
        "from IPython.display import Image\n",
        "Image(filename='predictions.jpg')"
      ],
      "execution_count": null,
      "outputs": []
    },
    {
      "cell_type": "code",
      "metadata": {
        "id": "MPiHcZajpCMy"
      },
      "source": [
        "!./darknet detector demo cfg/coco.data cfg/yolov4.cfg yolov4.weights -c 0"
      ],
      "execution_count": null,
      "outputs": []
    }
  ]
}